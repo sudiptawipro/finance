{
 "cells": [
  {
   "cell_type": "markdown",
   "metadata": {},
   "source": [
    "# k-Nearest Neighbor (KNN)\n",
    "\n",
    "[wikipedia](https://en.wikipedia.org/wiki/K-nearest_neighbors_algorithm)"
   ]
  },
  {
   "cell_type": "markdown",
   "metadata": {},
   "source": [
    "Classification and Regression\n",
    "\n",
    "* Lazy learner\n",
    "\n",
    "  * [Instance Based](https://en.wikipedia.org/wiki/Instance-based_learning)\n",
    "  * Lazy because it does not try to learn a function from the training data. \n",
    "  * It memorise the pattern from the dataset\n",
    "\n",
    "\n",
    "* [Nonparametric model](http://blog.minitab.com/blog/adventures-in-statistics-2/choosing-between-a-nonparametric-test-and-a-parametric-test)\n",
    "\n",
    "  * distribution-free tests because no assumption of the data needing to follow a specific distribution\n",
    "  * [wikipedia](https://en.wikipedia.org/wiki/Nonparametric_statistics)\n",
    "  * Other examples - Decision Tree, Random Forest\n",
    "\n",
    "\n",
    "\n",
    "Used for:\n",
    "\n",
    "* Predict cancer is malignant or benign\n",
    "* Pattern recognition\n",
    "* Recommender Systems\n",
    "* Computer Vision\n",
    "* Gene Expression\n",
    "* Protein-Protein Interaction and 3D Structure Prediction\n",
    "\n",
    "\n"
   ]
  },
  {
   "cell_type": "markdown",
   "metadata": {},
   "source": [
    "## Disadvantages\n",
    "\n",
    "* Not efficient on big data\n",
    "* Curse of dimensionality. Very susceptible to overfitting\n"
   ]
  },
  {
   "cell_type": "markdown",
   "metadata": {},
   "source": [
    "References:\n",
    "\n",
    "* [Wikipedia](https://en.wikipedia.org/wiki/K-nearest_neighbors_algorithm)\n",
    "\n",
    "* [Scikit-Learn Nearest Neighbours](http://scikit-learn.org/stable/modules/neighbors.html)\n",
    "\n",
    "* [Introduction to k-nearest neighbors : Simplified](https://www.analyticsvidhya.com/blog/2014/10/introduction-k-neighbours-algorithm-clustering/)\n",
    "\n",
    "* [Quora](https://www.quora.com/What-are-industry-applications-of-the-K-nearest-neighbor-algorithm)\n",
    "\n",
    "* [Kevin Zakka](https://kevinzakka.github.io/2016/07/13/k-nearest-neighbor/)\n",
    "\n",
    "* [CS231n CNN](http://cs231n.github.io/classification/#nn)\n",
    "\n",
    "* [A Detailed Introduction to K-Nearest Neighbor (KNN) Algorithm](https://saravananthirumuruganathan.wordpress.com/2010/05/17/a-detailed-introduction-to-k-nearest-neighbor-knn-algorithm/)\n",
    "\n",
    "* [Chris Albon](https://chrisalbon.com/)\n",
    "\n",
    "* [K-Nearest Neighbors for Machine Learning](https://machinelearningmastery.com/k-nearest-neighbors-for-machine-learning/)\n",
    "\n",
    "* [Introduction to Data Mining](http://www-users.cs.umn.edu/~kumar/dmbook/index.php)"
   ]
  },
  {
   "cell_type": "markdown",
   "metadata": {},
   "source": [
    "## Steps:\n",
    "\n",
    "* Choose the number of $k$\n",
    "* Select a distance metric\n",
    "* Find the k nearest neighbors of the sample\n",
    "* Assign the class label by majority vote\n",
    "\n"
   ]
  },
  {
   "cell_type": "markdown",
   "metadata": {},
   "source": [
    "***"
   ]
  },
  {
   "cell_type": "code",
   "execution_count": 1,
   "metadata": {},
   "outputs": [],
   "source": [
    "import numpy as np\n",
    "import pandas as pd\n",
    "import seaborn as sns\n",
    "from sklearn import datasets\n",
    "import matplotlib.pyplot as plt\n",
    "%matplotlib inline\n",
    "sns.set_style('whitegrid')"
   ]
  },
  {
   "cell_type": "code",
   "execution_count": 2,
   "metadata": {},
   "outputs": [
    {
     "data": {
      "text/html": [
       "<div>\n",
       "<style scoped>\n",
       "    .dataframe tbody tr th:only-of-type {\n",
       "        vertical-align: middle;\n",
       "    }\n",
       "\n",
       "    .dataframe tbody tr th {\n",
       "        vertical-align: top;\n",
       "    }\n",
       "\n",
       "    .dataframe thead th {\n",
       "        text-align: right;\n",
       "    }\n",
       "</style>\n",
       "<table border=\"1\" class=\"dataframe\">\n",
       "  <thead>\n",
       "    <tr style=\"text-align: right;\">\n",
       "      <th></th>\n",
       "      <th>sepal_length</th>\n",
       "      <th>sepal_width</th>\n",
       "      <th>petal_length</th>\n",
       "      <th>petal_width</th>\n",
       "      <th>species</th>\n",
       "    </tr>\n",
       "  </thead>\n",
       "  <tbody>\n",
       "    <tr>\n",
       "      <th>0</th>\n",
       "      <td>5.1</td>\n",
       "      <td>3.5</td>\n",
       "      <td>1.4</td>\n",
       "      <td>0.2</td>\n",
       "      <td>setosa</td>\n",
       "    </tr>\n",
       "    <tr>\n",
       "      <th>1</th>\n",
       "      <td>4.9</td>\n",
       "      <td>3.0</td>\n",
       "      <td>1.4</td>\n",
       "      <td>0.2</td>\n",
       "      <td>setosa</td>\n",
       "    </tr>\n",
       "    <tr>\n",
       "      <th>2</th>\n",
       "      <td>4.7</td>\n",
       "      <td>3.2</td>\n",
       "      <td>1.3</td>\n",
       "      <td>0.2</td>\n",
       "      <td>setosa</td>\n",
       "    </tr>\n",
       "    <tr>\n",
       "      <th>3</th>\n",
       "      <td>4.6</td>\n",
       "      <td>3.1</td>\n",
       "      <td>1.5</td>\n",
       "      <td>0.2</td>\n",
       "      <td>setosa</td>\n",
       "    </tr>\n",
       "    <tr>\n",
       "      <th>4</th>\n",
       "      <td>5.0</td>\n",
       "      <td>3.6</td>\n",
       "      <td>1.4</td>\n",
       "      <td>0.2</td>\n",
       "      <td>setosa</td>\n",
       "    </tr>\n",
       "  </tbody>\n",
       "</table>\n",
       "</div>"
      ],
      "text/plain": [
       "   sepal_length  sepal_width  petal_length  petal_width species\n",
       "0           5.1          3.5           1.4          0.2  setosa\n",
       "1           4.9          3.0           1.4          0.2  setosa\n",
       "2           4.7          3.2           1.3          0.2  setosa\n",
       "3           4.6          3.1           1.5          0.2  setosa\n",
       "4           5.0          3.6           1.4          0.2  setosa"
      ]
     },
     "execution_count": 2,
     "metadata": {},
     "output_type": "execute_result"
    }
   ],
   "source": [
    "df = sns.load_dataset('iris')\n",
    "df.head()"
   ]
  },
  {
   "cell_type": "code",
   "execution_count": 3,
   "metadata": {},
   "outputs": [],
   "source": [
    "X_train = df[['petal_length', 'petal_width']]\n",
    "species_to_num = {'setosa': 0,\n",
    "                  'versicolor': 1,\n",
    "                  'virginica': 2}\n",
    "df['species'] = df['species'].map(species_to_num)\n",
    "y_train = df['species']"
   ]
  },
  {
   "cell_type": "code",
   "execution_count": 4,
   "metadata": {},
   "outputs": [],
   "source": [
    "from sklearn.neighbors import KNeighborsClassifier"
   ]
  },
  {
   "cell_type": "code",
   "execution_count": 5,
   "metadata": {},
   "outputs": [
    {
     "data": {
      "text/plain": [
       "KNeighborsClassifier(algorithm='auto', leaf_size=30, metric='minkowski',\n",
       "           metric_params=None, n_jobs=1, n_neighbors=50, p=2,\n",
       "           weights='uniform')"
      ]
     },
     "execution_count": 5,
     "metadata": {},
     "output_type": "execute_result"
    }
   ],
   "source": [
    "knn = KNeighborsClassifier(n_neighbors=50)\n",
    "knn.fit(X_train, y_train)"
   ]
  },
  {
   "cell_type": "code",
   "execution_count": 6,
   "metadata": {},
   "outputs": [
    {
     "data": {
      "image/png": "[encoded data removed]",
      "text/plain": [
       "<matplotlib.figure.Figure at 0x1b053415e48>"
      ]
     },
     "metadata": {},
     "output_type": "display_data"
    }
   ],
   "source": [
    "Xv = X_train.values.reshape(-1,1)\n",
    "h = 0.02\n",
    "x_min, x_max = Xv.min(), Xv.max() + 1\n",
    "y_min, y_max = y_train.min(), y_train.max() + 1\n",
    "xx, yy = np.meshgrid(np.arange(x_min, x_max, h),\n",
    "                     np.arange(y_min, y_max, h))\n",
    "\n",
    "z = knn.predict(np.c_[xx.ravel(), yy.ravel()])\n",
    "z = z.reshape(xx.shape)\n",
    "\n",
    "fig = plt.figure(figsize=(8,5))\n",
    "\n",
    "ax = plt.contourf(xx, yy, z, cmap = 'afmhot', alpha=0.3, \n",
    "                  );\n",
    "plt.scatter(X_train.values[:, 0], X_train.values[:, 1], c=y_train, s=40, \n",
    "            alpha=0.9, edgecolors='k');"
   ]
  },
  {
   "cell_type": "markdown",
   "metadata": {},
   "source": [
    "***"
   ]
  },
  {
   "cell_type": "markdown",
   "metadata": {},
   "source": [
    "## DistanceMetric class documentation\n",
    "[scikit-learn]()\n",
    "\n",
    "Metrics intended for real-valued vector spaces:\n",
    "\n",
    "| identifier\t| class name\t| args\t| distance function |\n",
    "|:- |:- |:- |:- |\n",
    "|\"euclidean\" | \tEuclideanDistance  |   | $\\sqrt{\\sum(x - y)^2)}$  |  \n",
    "|\"manhattan\" | ManhattanDistance |  | $\\sum\\big|x - y\\big|$|  \n",
    "|\"chebyshev\" | ChebyshevDistance |  | max${\\big|x - y\\big|}$ |  \n",
    "|\"minkowski\" | MinkowskiDistance\t | p\t | $\\sum(\\big|x - y\\big|^p)^{\\frac{1}{p}}$     | \n",
    "|\"wminkowski\" | WMinkowskiDistance\t | p, w\t | $\\sum(w\\big|x - y\\big|^p)^{\\frac{1}{p}}$     |\n",
    "|\"seuclidean\" | SEuclideanDistance\t | V\t | $\\sqrt{\\sum\\frac{(x - y)^2}{V})}$     | \n",
    "\n",
    "Refer to documentation for more on \n",
    "* Metrics intended for two-dimensional vector spaces\n",
    "* Metrics intended for integer-valued vector spaces\n",
    "* Metrics intended for boolean-valued vector spaces\n",
    "\n",
    "* User-defined distance"
   ]
  },
  {
   "cell_type": "markdown",
   "metadata": {},
   "source": [
    "Source: [Rorasa's blog](https://rorasa.wordpress.com/2012/05/13/l0-norm-l1-norm-l2-norm-l-infinity-norm/)\n",
    "\n",
    "* Mathematically a norm is a total size or length of all vectors in a vector space or matrices. \n",
    "* For simplicity, we can say that the higher the norm is, the bigger the (value in) matrix or vector is. \n",
    "* Norm may come in many forms and many names, including these popular name: Euclidean distance, Mean-squared Error, etc.\n",
    "* Most of the time you will see the norm appears in a equation like this:\n",
    "\n",
    "$\\left \\| x \\right \\|$ where $x$ can be a vector or a matrix.\n",
    "\n",
    "* Euclidean distance\n",
    "\n",
    "  * Most common\n",
    "  * L2 norm of two vectors. \n",
    "  * In a bidimensional plane, the Euclidean distance refigures as the straight line connecting two points, and you calculate it as the square root of the sum of the squared difference between the elements of two vectors. \n",
    "  * The Euclidean distance between points (1,2) and (3,3) can be computed $\\sqrt{(1-3)^2+(2-3)^2}$, which results in a distance of about 2.236.\n",
    "\n",
    "\n",
    "* Manhattan distance\n",
    "  * Another useful measure is the Manhattan distance\n",
    "  * L1 norm of two vectors\n",
    "  * Summing the absolute value of the difference between the elements of the vectors. \n",
    "  * If the Euclidean distance marks the shortest route, the Manhattan distance marks the longest route, resembling the directions of a taxi moving in a city. (The distance is also known as taxicab or city-block distance.) \n",
    "  * For instance, the Manhattan distance between points (1,2) and (3,3) is abs(1–3) and abs(2–3), which results in 3.\n",
    "\n",
    "\n",
    "* Chebyshev distance\n",
    "  * Takes the maximum of the absolute difference between the elements of the vectors. \n",
    "  * It is a distance measure that can represent how a king moves in the game of chess or, in warehouse logistics, the operations required by an overhead crane to move a crate from one place to another. \n",
    "  * In machine learning, the Chebyshev distance can prove useful when you have many dimensions to consider and most of them are just irrelevant or redundant (in Chebyshev, you just pick the one whose absolute difference is the largest). \n",
    "  * In the example used in previous sections, the distance is simply 2, the max between abs(1–3) and abs(2–3)."
   ]
  },
  {
   "cell_type": "markdown",
   "metadata": {},
   "source": [
    "***"
   ]
  }
 ],
 "metadata": {
  "kernelspec": {
   "display_name": "Python 3",
   "language": "python",
   "name": "python3"
  },
  "language_info": {
   "codemirror_mode": {
    "name": "ipython",
    "version": 3
   },
   "file_extension": ".py",
   "mimetype": "text/x-python",
   "name": "python",
   "nbconvert_exporter": "python",
   "pygments_lexer": "ipython3",
   "version": "3.5.4"
  }
 },
 "nbformat": 4,
 "nbformat_minor": 2
}
